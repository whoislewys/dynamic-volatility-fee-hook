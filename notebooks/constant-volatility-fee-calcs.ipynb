{
 "cells": [
  {
   "cell_type": "markdown",
   "metadata": {},
   "source": [
    "## Constant Volatility Fee Calculations"
   ]
  },
  {
   "cell_type": "markdown",
   "metadata": {},
   "source": [
    "# ![Uniswap v3 fee tier formula](https://miro.medium.com/v2/resize:fit:1400/format:webp/1*yah6u1x9uQkC7llZrz9QhQ.png)\n"
   ]
  },
  {
   "cell_type": "code",
   "execution_count": 105,
   "metadata": {},
   "outputs": [],
   "source": [
    "import math"
   ]
  },
  {
   "cell_type": "code",
   "execution_count": 106,
   "metadata": {},
   "outputs": [],
   "source": [
    "# feeTierDecimal = iv_per_year / (2 * math.sqrt(365 * 24 * 60 * 60)) * math.sqrt(tick_tvl / amount0) * math.sqrt(deltaT_secs)\n",
    "\n",
    "def getFeeTierDecimal(iv_per_year, tick_tvl, amount0, deltaT_secs):\n",
    "  two_sqrt_t = (2 * math.sqrt(365 * 24 * 60 * 60))\n",
    "  # print('two_sqrt_t: ', two_sqrt_t) # > 11231.384598525687\n",
    "\n",
    "  iv_seconds =  iv_per_year / two_sqrt_t\n",
    "  # print('iv_seconds: {:.20f}'.format(iv_seconds))\n",
    "\n",
    "  liq_swap_ratio = tick_tvl / amount0\n",
    "  # print('liq_swap_ratio', liq_swap_ratio)\n",
    "\n",
    "  sqrt_liq_swap_ratio = math.sqrt(liq_swap_ratio)\n",
    "  # print('sqrt_liq_swap_ratio_t', sqrt_liq_swap_ratio)\n",
    "\n",
    "  sqrt_delta_t = math.sqrt(deltaT_secs)\n",
    "  # print('sqrt_delta_t', sqrt_delta_t)\n",
    "\n",
    "  feeTier = iv_seconds * sqrt_liq_swap_ratio * sqrt_delta_t\n",
    "\n",
    "  return feeTier\n",
    "\n",
    "\n",
    "# return fee in ten thousandths (1 100th of a basis point)\n",
    "def getFee(iv_per_year, tick_tvl, amount0, deltaT_secs):\n",
    "  two_sqrt_t = 2 * math.sqrt(365 * 24 * 60 * 60)\n",
    "  # print('two_sqrt_t: ', two_sqrt_t) # > 11231.384598525687\n",
    "\n",
    "  iv_seconds =  iv_per_year / two_sqrt_t\n",
    "  # print('iv_seconds: {:.20f}'.format(iv_seconds))\n",
    "\n",
    "  liq_swap_ratio = tick_tvl / amount0\n",
    "  # print('liq_swap_ratio', liq_swap_ratio)\n",
    "\n",
    "  sqrt_liq_swap_ratio = math.sqrt(liq_swap_ratio)\n",
    "  # print('sqrt_liq_swap_ratio_t', sqrt_liq_swap_ratio)\n",
    "\n",
    "  sqrt_delta_t = math.sqrt(deltaT_secs)\n",
    "  # print('sqrt_delta_t', sqrt_delta_t)\n",
    "\n",
    "  feeTier = iv_seconds * sqrt_liq_swap_ratio * sqrt_delta_t\n",
    "\n",
    "  return feeTier"
   ]
  },
  {
   "cell_type": "code",
   "execution_count": 107,
   "metadata": {},
   "outputs": [
    {
     "name": "stdout",
     "output_type": "stream",
     "text": [
      "Fee (decimal) for 1 ETH trade after 1 block: 0.00612\n",
      "Fee (pct) for 1 ETH trade after 1 block: 0.6120%\n",
      "Fee for 1 ETH trade after 1 block: 6120.228082\n",
      "Fee (to %) for 1 ETH trade after 1 block: 0.6120228082%\n",
      "\n",
      "Fee for 1 ETH trade after 2 blocks: 0.8655%\n",
      "Fee (pct) for 1 ETH trade after 2 blocks: 0.8655%\n",
      "Fee for 1 ETH trade after 2 blocks: 8655.309559\n",
      "Fee (to %) for 1 ETH trade after 2 blocks: 0.8655309559%\n",
      "\n",
      "Fee (decimal) for 1000 ETH trade after 1 block: 0.0001935\n",
      "Fee (pct) for 1000 ETH trade after 1 block: 0.0194%\n",
      "Fee for 1000 ETH trade after 1 block: 193.5386054\n",
      "Fee (to %) for 1000 ETH trade after 1 block: 0.01935386054%\n",
      "\n",
      "Total fees collected from whale trade: 0.19 ETH\n"
     ]
    }
   ],
   "source": [
    "# Example 1: 1 ETH trade with 100% annual volatility target\n",
    "IV_per_year = 1_000_000  # 100% annual volatility, in fee units (1 / 100ths of a bip)\n",
    "FEE_DECIMALS = 1_000_000\n",
    "tick_tvl = 315     # Example TVL at tick\n",
    "amount0 = 1        # 1 ETH trade\n",
    "deltaT_secs = 15   # 1 block (15 seconds)\n",
    "\n",
    "fee1Pct = getFeeTierDecimal(IV_per_year/FEE_DECIMALS, tick_tvl, amount0, deltaT_secs)\n",
    "print(f\"Fee (decimal) for 1 ETH trade after 1 block: {fee1Pct:.4}\")\n",
    "print(f\"Fee (pct) for 1 ETH trade after 1 block: {fee1Pct:.4%}\")\n",
    "fee1 = getFee(IV_per_year, tick_tvl, amount0, deltaT_secs)\n",
    "print(f\"Fee for 1 ETH trade after 1 block: {fee1:.10}\")\n",
    "print(f\"Fee (to %) for 1 ETH trade after 1 block: {fee1 / 10_000:.10}%\")\n",
    "print('')\n",
    "# > Fee for 1 ETH trade after 1 block: 0.6120%\n",
    "\n",
    "deltaT_secs = 30   # 2 blocks\n",
    "fee2Pct = getFeeTierDecimal(IV_per_year/FEE_DECIMALS, tick_tvl, amount0, deltaT_secs)\n",
    "print(f\"Fee for 1 ETH trade after 2 blocks: {fee2Pct:.4%}\")\n",
    "print(f\"Fee (pct) for 1 ETH trade after 2 blocks: {fee2Pct:.4%}\")\n",
    "fee2 = getFee(IV_per_year, tick_tvl, amount0, deltaT_secs)\n",
    "print(f\"Fee for 1 ETH trade after 2 blocks: {fee2:.10}\")\n",
    "print(f\"Fee (to %) for 1 ETH trade after 2 blocks: {fee2 / 10_000:.10}%\")\n",
    "print('')\n",
    "# > Fee for 1 ETH trade after 2 blocks: 0.8655%\n",
    "\n",
    "\n",
    "# Example 3: 1000 ETH whale trade\n",
    "amount0 = 1000     # 1000 ETH trade\n",
    "deltaT_secs = 15   # 1 block\n",
    "fee3Pct = getFeeTierDecimal(IV_per_year/FEE_DECIMALS, tick_tvl, amount0, deltaT_secs)\n",
    "print(f\"Fee (decimal) for 1000 ETH trade after 1 block: {fee3Pct:.4}\")\n",
    "print(f\"Fee (pct) for 1000 ETH trade after 1 block: {fee3Pct:.4%}\")\n",
    "fee3 = getFee(IV_per_year, tick_tvl, amount0, deltaT_secs)\n",
    "print(f\"Fee for 1000 ETH trade after 1 block: {fee3:.10}\")\n",
    "print(f\"Fee (to %) for 1000 ETH trade after 1 block: {fee3 / 10_000:.10}%\")\n",
    "print('')\n",
    "# Fee for 1000 ETH whale trade: 0.0194%\n",
    "\n",
    "# Total fees collected by LPs from whale trade\n",
    "total_fees = amount0 * fee3Pct\n",
    "print(f\"Total fees collected from whale trade: {total_fees:.2f} ETH\")\n",
    "# Total fees collected from whale trade: 0.19 ETH"
   ]
  },
  {
   "cell_type": "code",
   "execution_count": null,
   "metadata": {},
   "outputs": [],
   "source": []
  }
 ],
 "metadata": {
  "kernelspec": {
   "display_name": "Python 3",
   "language": "python",
   "name": "python3"
  },
  "language_info": {
   "codemirror_mode": {
    "name": "ipython",
    "version": 3
   },
   "file_extension": ".py",
   "mimetype": "text/x-python",
   "name": "python",
   "nbconvert_exporter": "python",
   "pygments_lexer": "ipython3",
   "version": "3.10.2"
  }
 },
 "nbformat": 4,
 "nbformat_minor": 2
}
