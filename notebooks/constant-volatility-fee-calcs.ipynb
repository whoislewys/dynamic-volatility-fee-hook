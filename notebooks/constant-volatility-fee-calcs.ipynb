{
 "cells": [
  {
   "cell_type": "markdown",
   "metadata": {},
   "source": [
    "## Constant Volatility Fee Calculations"
   ]
  },
  {
   "cell_type": "markdown",
   "metadata": {},
   "source": [
    "# ![Uniswap v3 fee tier formula](https://miro.medium.com/v2/resize:fit:1400/format:webp/1*yah6u1x9uQkC7llZrz9QhQ.png)\n"
   ]
  },
  {
   "cell_type": "code",
   "execution_count": 3,
   "metadata": {},
   "outputs": [],
   "source": [
    "import math"
   ]
  },
  {
   "cell_type": "code",
   "execution_count": 4,
   "metadata": {},
   "outputs": [],
   "source": [
    "def getFeeTier(IV_per_year, tick_tvl, amount0, deltaT_secs):\n",
    " feeTier = IV_per_year / (2 * math.sqrt(365 * 24 * 60 * 60)) * math.sqrt(tick_tvl / amount0) * math.sqrt(deltaT_secs)\n",
    " return feeTier"
   ]
  },
  {
   "cell_type": "code",
   "execution_count": 5,
   "metadata": {},
   "outputs": [
    {
     "name": "stdout",
     "output_type": "stream",
     "text": [
      "Fee for 1 ETH trade after 1 block: 0.6120%\n",
      "Fee for 1 ETH trade after 2 blocks: 0.8655%\n",
      "Fee for 1000 ETH whale trade: 0.0194%\n",
      "Total fees collected from whale trade: 0.19 ETH\n"
     ]
    }
   ],
   "source": [
    "# Example 1: 1 ETH trade with 100% annual volatility target\n",
    "IV_per_year = 1.0  # 100% annual volatility - 10,000 bps, 1_000_000 pmds (aka 100th of a bip)\n",
    "tick_tvl = 315     # Example TVL at tick\n",
    "amount0 = 1        # 1 ETH trade\n",
    "deltaT_secs = 15   # 1 block (15 seconds)\n",
    "\n",
    "fee1 = getFeeTier(IV_per_year, tick_tvl, amount0, deltaT_secs)\n",
    "print(f\"Fee for 1 ETH trade after 1 block: {fee1:.4%}\")\n",
    "# > Fee for 1 ETH trade after 1 block: 0.6120%\n",
    "\n",
    "# Example 2: After 2 blocks\n",
    "deltaT_secs = 30   # 2 blocks\n",
    "fee2 = getFeeTier(IV_per_year, tick_tvl, amount0, deltaT_secs)\n",
    "print(f\"Fee for 1 ETH trade after 2 blocks: {fee2:.4%}\")\n",
    "# > Fee for 1 ETH trade after 2 blocks: 0.8655%\n",
    "\n",
    "\n",
    "# Example 3: 1000 ETH whale trade\n",
    "amount0 = 1000     # 1000 ETH trade\n",
    "deltaT_secs = 15   # 1 block\n",
    "fee3 = getFeeTier(IV_per_year, tick_tvl, amount0, deltaT_secs)\n",
    "print(f\"Fee for 1000 ETH whale trade: {fee3:.4%}\")\n",
    "# Fee for 1000 ETH whale trade: 0.0194%\n",
    "\n",
    "# Total fees collected by LPs from whale trade\n",
    "total_fees = amount0 * fee3\n",
    "print(f\"Total fees collected from whale trade: {total_fees:.2f} ETH\")\n",
    "# Total fees collected from whale trade: 0.19 ETH"
   ]
  },
  {
   "cell_type": "code",
   "execution_count": null,
   "metadata": {},
   "outputs": [],
   "source": [
    "# TODO: calc fee in uniswap fee units, not %. then convert to pct after and log both"
   ]
  },
  {
   "cell_type": "code",
   "execution_count": null,
   "metadata": {},
   "outputs": [],
   "source": []
  }
 ],
 "metadata": {
  "kernelspec": {
   "display_name": "Python 3",
   "language": "python",
   "name": "python3"
  },
  "language_info": {
   "codemirror_mode": {
    "name": "ipython",
    "version": 3
   },
   "file_extension": ".py",
   "mimetype": "text/x-python",
   "name": "python",
   "nbconvert_exporter": "python",
   "pygments_lexer": "ipython3",
   "version": "3.10.undefined"
  }
 },
 "nbformat": 4,
 "nbformat_minor": 2
}
