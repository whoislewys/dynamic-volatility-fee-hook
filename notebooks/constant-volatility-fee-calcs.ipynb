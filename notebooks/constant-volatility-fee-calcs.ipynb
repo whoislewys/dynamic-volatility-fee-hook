{
 "cells": [
  {
   "cell_type": "markdown",
   "metadata": {},
   "source": [
    "## Constant Volatility Fee Calculations\n",
    "\n",
    "Reproducing the constant volatility invariant to determine feeTier examples from [Guillaume's Constant Volatility AMM blog post](https://lambert-guillaume.medium.com/designing-a-constant-volatility-amm-e167278b5d61#:~:text=TL%3BDR%3A%20Constant%20volatility%20AMMs,dynamics%20of%20the%20underlying%20assets.)\n",
    "\n",
    "Equation below:"
   ]
  },
  {
   "cell_type": "markdown",
   "metadata": {},
   "source": [
    "# ![Uniswap v3 fee tier formula](https://miro.medium.com/v2/resize:fit:1400/format:webp/1*yah6u1x9uQkC7llZrz9QhQ.png)\n"
   ]
  },
  {
   "cell_type": "code",
   "execution_count": 15,
   "metadata": {},
   "outputs": [],
   "source": [
    "import math"
   ]
  },
  {
   "cell_type": "code",
   "execution_count": 184,
   "metadata": {},
   "outputs": [],
   "source": [
    "# fee = iv_per_year / (2 * math.sqrt(365 * 24 * 60 * 60)) * math.sqrt(tick_tvl / amount0) * math.sqrt(deltaT_secs)\n",
    "\n",
    "def getFeeTierDecimal(iv_per_year, tick_tvl, amount0, deltaT_secs):\n",
    "  two_sqrt_t = (2 * math.sqrt(365 * 24 * 60 * 60))\n",
    "  # print('two_sqrt_t: ', two_sqrt_t) # > 11231.384598525687\n",
    "\n",
    "  iv_seconds = iv_per_year / two_sqrt_t\n",
    "  # print('iv_seconds: {:.10f}'.format(iv_seconds))\n",
    "\n",
    "  liq_swap_ratio = tick_tvl / amount0\n",
    "  # print('liq_swap_ratio', liq_swap_ratio)\n",
    "\n",
    "  sqrt_liq_swap_ratio = math.sqrt(liq_swap_ratio)\n",
    "  # print('sqrt_liq_swap_ratio_t', sqrt_liq_swap_ratio)\n",
    "\n",
    "  sqrt_delta_t = math.sqrt(deltaT_secs)\n",
    "  # print('sqrt_delta_t', sqrt_delta_t)\n",
    "\n",
    "  # print(\"final calc. iv_seconds | sqrt_liq_swap_ratio | sqrt_delta_t \", iv_seconds, sqrt_liq_swap_ratio, sqrt_delta_t)\n",
    "  feeTier = iv_seconds * sqrt_liq_swap_ratio * sqrt_delta_t\n",
    "\n",
    "  return feeTier\n",
    "\n",
    "\n",
    "# return fee in ten thousandths (1 100th of a basis point)\n",
    "# also modified to replicate fixed point math ops in sol\n",
    "def getFee(iv_per_year, tick_tvl, amount0, deltaT_secs):\n",
    "  two_sqrt_t = 2 * math.sqrt(365 * 24 * 60 * 60)\n",
    "  # print('two_sqrt_t: ', two_sqrt_t) # > 11231.384598525687\n",
    "\n",
    "  iv_seconds =  iv_per_year / two_sqrt_t\n",
    "  # print('iv_seconds: {:.10f}'.format(iv_seconds))\n",
    "\n",
    "  liq_swap_ratio = tick_tvl / amount0\n",
    "  print('liq_swap_ratio', liq_swap_ratio)\n",
    "\n",
    "  sqrt_liq_swap_ratio = math.sqrt(liq_swap_ratio)\n",
    "  # print('sqrt_liq_swap_ratio', sqrt_liq_swap_ratio)\n",
    "\n",
    "  sqrt_delta_t = math.sqrt(deltaT_secs)\n",
    "  # print('sqrt_delta_t', sqrt_delta_t)\n",
    "\n",
    "  # print(\"final calc. iv_seconds | sqrt_liq_swap_ratio | sqrt_delta_t \", iv_seconds, sqrt_liq_swap_ratio, sqrt_delta_t)\n",
    "  fee = iv_seconds * sqrt_liq_swap_ratio * sqrt_delta_t\n",
    "\n",
    "  return fee"
   ]
  },
  {
   "cell_type": "code",
   "execution_count": 185,
   "metadata": {},
   "outputs": [
    {
     "name": "stdout",
     "output_type": "stream",
     "text": [
      "Fee (decimal) for 1 ETH trade after 1 block: 0.00612\n",
      "Fee (pct) for 1 ETH trade after 1 block: 0.6120%\n",
      "liq_swap_ratio 315.0\n",
      "Fee for 1 ETH trade after 1 block: 6120.228082418327\n",
      "Fee (to %) for 1 ETH trade after 1 block: 0.0%\n",
      "\n",
      "Fee for 1 ETH trade after 2 blocks: 0.8655%\n",
      "Fee (pct) for 1 ETH trade after 2 blocks: 0.8655%\n",
      "liq_swap_ratio 315.0\n",
      "Fee for 1 ETH trade after 2 blocks: 8655.309559\n",
      "Fee (to %) for 1 ETH trade after 2 blocks: 0.8655309559%\n",
      "\n",
      "Fee (decimal) for 1000 ETH trade after 1 block: 0.0001935\n",
      "Fee (pct) for 1000 ETH trade after 1 block: 0.0194%\n",
      "liq_swap_ratio 0.315\n",
      "Fee for 1000 ETH trade after 1 block: 193.5386054\n",
      "Fee (to %) for 1000 ETH trade after 1 block: 0.01935386054%\n",
      "\n",
      "Total fees collected from whale trade: 0.19 ETH\n"
     ]
    }
   ],
   "source": [
    "# Example 1: 1 ETH trade with 100% annual volatility target\n",
    "IV_per_year = 1_000_000  # 100% annual volatility, in fee units (1 / 100ths of a bip). As a decimal, 1, times 10 ** 6 (fee tier decimals) = 1_000_000\n",
    "FEE_DECIMALS = 1_000_000\n",
    "tick_tvl = 315           # Example TVL at tick\n",
    "amount0 = 1 # 1 ETH trade\n",
    "\n",
    "deltaT_secs = 15   # 1 block (15 seconds)\n",
    "\n",
    "fee1Pct = getFeeTierDecimal(IV_per_year/FEE_DECIMALS, tick_tvl, amount0, deltaT_secs)\n",
    "print(f\"Fee (decimal) for 1 ETH trade after 1 block: {fee1Pct:.4}\")\n",
    "print(f\"Fee (pct) for 1 ETH trade after 1 block: {fee1Pct:.4%}\")\n",
    "fee1 = getFee(IV_per_year, tick_tvl, amount0, deltaT_secs)\n",
    "print(f\"Fee for 1 ETH trade after 1 block: {fee1}\")\n",
    "print(f\"Fee (to %) for 1 ETH trade after 1 block: {fee1 // 10_000}%\")\n",
    "print('')\n",
    "# > Fee for 1 ETH trade after 1 block: 0.6120%\n",
    "\n",
    "# Example 2 - 2 blocks\n",
    "deltaT_secs = 30   # 2 blocks\n",
    "fee2Pct = getFeeTierDecimal(IV_per_year/FEE_DECIMALS, tick_tvl, amount0, deltaT_secs)\n",
    "print(f\"Fee for 1 ETH trade after 2 blocks: {fee2Pct:.4%}\")\n",
    "print(f\"Fee (pct) for 1 ETH trade after 2 blocks: {fee2Pct:.4%}\")\n",
    "fee2 = getFee(IV_per_year, tick_tvl, amount0, deltaT_secs)\n",
    "print(f\"Fee for 1 ETH trade after 2 blocks: {fee2:.10}\")\n",
    "print(f\"Fee (to %) for 1 ETH trade after 2 blocks: {fee2 / 10_000:.10}%\")\n",
    "print('')\n",
    "# > Fee for 1 ETH trade after 2 blocks: 0.8655%\n",
    "\n",
    "# Example 3: 1000 ETH whale trade\n",
    "amount0 = 1000     # 1000 ETH trade\n",
    "deltaT_secs = 15   # 1 block\n",
    "fee3Pct = getFeeTierDecimal(IV_per_year/FEE_DECIMALS, tick_tvl, amount0, deltaT_secs)\n",
    "print(f\"Fee (decimal) for 1000 ETH trade after 1 block: {fee3Pct:.4}\")\n",
    "print(f\"Fee (pct) for 1000 ETH trade after 1 block: {fee3Pct:.4%}\")\n",
    "fee3 = getFee(IV_per_year, tick_tvl, amount0, deltaT_secs)\n",
    "print(f\"Fee for 1000 ETH trade after 1 block: {fee3:.10}\")\n",
    "print(f\"Fee (to %) for 1000 ETH trade after 1 block: {fee3 / 10_000:.10}%\")\n",
    "print('')\n",
    "# Fee for 1000 ETH whale trade: 0.0194%\n",
    "\n",
    "# Total fees collected by LPs from whale trade\n",
    "total_fees = amount0 * fee3Pct\n",
    "print(f\"Total fees collected from whale trade: {total_fees:.2f} ETH\")\n",
    "# Total fees collected from whale trade: 0.19 ETH"
   ]
  },
  {
   "cell_type": "markdown",
   "metadata": {},
   "source": [
    "## Calculating IV in circuit\n",
    "The ZK circuit is provided with amount1 and raw liquidity values.\n",
    "\n",
    "Here we take the mock amount1 and raw liquidity values provided in unit tests and use them to calculate IV so we know what output value to expect from the circuit"
   ]
  },
  {
   "cell_type": "code",
   "execution_count": 9,
   "metadata": {},
   "outputs": [],
   "source": [
    "amount1_0 = 1564800000000000000000\n",
    "amount1_1 = 1469250000000000000000\n",
    "totalVolume = amount1_0 + amount1_1 # 3034050000000000000000\n",
    "currentTick = 200169\n",
    "liq = 17525466147715557006"
   ]
  },
  {
   "cell_type": "code",
   "execution_count": 46,
   "metadata": {},
   "outputs": [
    {
     "name": "stdout",
     "output_type": "stream",
     "text": [
      "Amount1 using get_amount1_for_liquidity_1: 17525466147715557006\n",
      "liq:  17525466147715557006\n",
      "currenttTick:  200169\n",
      "Tick TVL: 17525466147715557006\n",
      "Daily Volume: 3034050000000000000000\n",
      "IV: 251375.53611852165\n",
      "IV: 251375\n"
     ]
    }
   ],
   "source": [
    "# Constants from FixedPoint96 library\n",
    "RESOLUTION = 96\n",
    "Q96 = 0x1000000000000000000000000  # 79228162514264337593543950336\n",
    "\n",
    "\n",
    "def get_amount1_for_liquidity(\n",
    "    sqrt_ratio_a_x96: int,\n",
    "    sqrt_ratio_b_x96: int,\n",
    "    liquidity: int\n",
    ") -> int:\n",
    "    if sqrt_ratio_a_x96 > sqrt_ratio_b_x96:\n",
    "        sqrt_ratio_a_x96, sqrt_ratio_b_x96 = sqrt_ratio_b_x96, sqrt_ratio_a_x96\n",
    "\n",
    "    # Equivalent to FullMath.mulDiv in Solidity\n",
    "    return (liquidity * (sqrt_ratio_b_x96 - sqrt_ratio_a_x96)) // Q96\n",
    "\n",
    "def get_amount1_for_liquidity_tick_space(\n",
    "    tick_a: int,\n",
    "    tick_b: int,\n",
    "    liquidity: int\n",
    ") -> int:\n",
    "    if tick_a > tick_b:\n",
    "        tick_a, tick_b = tick_b, tick_a\n",
    "\n",
    "    return (liquidity * (tick_b - tick_a))\n",
    "\n",
    "# Calculate tick to sqrt price\n",
    "def tick_to_sqrt_price_x96(tick):\n",
    "    return int(1.0001 ** (tick / 2) * 2**96)\n",
    "\n",
    "# Calculate for both functions\n",
    "sqrt_price_current = tick_to_sqrt_price_x96(currentTick)\n",
    "sqrt_price_next = tick_to_sqrt_price_x96(currentTick + 1)\n",
    "\n",
    "# Using first function\n",
    "liq_amount1 = get_amount1_for_liquidity_tick_space(currentTick, currentTick+1, liq)\n",
    "print(f\"Amount1 using get_amount1_for_liquidity_1: {liq_amount1}\")\n",
    "\n",
    "# iv = 2 * (feeTier / 10 ** 6) * (dailyVolume / tickTvl) ** 0.5 * Math.sqrt(365)\n",
    "\n",
    "# start with tickTvl term\n",
    "# For calculating tickTvl in the circuit, approximate it by trating in range liquidity as one tick \n",
    "# d0 is derivedEth value which for weth=1. decs0=18 for weth\n",
    "print(\"liq: \", liq)\n",
    "print(\"currenttTick: \", currentTick)\n",
    "tickTvl = liq_amount1\n",
    "print(f\"Tick TVL: {tickTvl}\")\n",
    "\n",
    "# iv\n",
    "# Calculate IV (in percent) using the formula:\n",
    "# iv = 2 * (feeTier / 10 ** 6) * (dailyVolume / tickTvl) ** 0.5 * Math.sqrt(365)\n",
    "\n",
    "dailyVolume = totalVolume\n",
    "\n",
    "# Fee tier is 500 bps (0.05%)\n",
    "feeTier = 500\n",
    "\n",
    "# Calculate IV, but don't divide by fee tier decimals to leave IV in fee tier units. this is how the target_iv is represented in the smart contract\n",
    "iv = 2 * feeTier * math.sqrt(dailyVolume / tickTvl) * math.sqrt(365)\n",
    "\n",
    "print(f\"Daily Volume: {dailyVolume}\")\n",
    "print(f\"IV: {iv}\")\n",
    "\n",
    "# For comparison with the circuit output (uint248 value)\n",
    "iv_scaled = int(iv)\n",
    "print(f\"IV: {iv_scaled}\")\n",
    "\n",
    "# 1675084242"
   ]
  },
  {
   "cell_type": "code",
   "execution_count": null,
   "metadata": {},
   "outputs": [],
   "source": [
    "19454766237951424304"
   ]
  }
 ],
 "metadata": {
  "kernelspec": {
   "display_name": "Python 3",
   "language": "python",
   "name": "python3"
  },
  "language_info": {
   "codemirror_mode": {
    "name": "ipython",
    "version": 3
   },
   "file_extension": ".py",
   "mimetype": "text/x-python",
   "name": "python",
   "nbconvert_exporter": "python",
   "pygments_lexer": "ipython3",
   "version": "3.10.2"
  }
 },
 "nbformat": 4,
 "nbformat_minor": 2
}
